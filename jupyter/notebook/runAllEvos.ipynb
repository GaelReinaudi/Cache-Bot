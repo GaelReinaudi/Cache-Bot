{
 "cells": [
  {
   "cell_type": "code",
   "execution_count": 32,
   "metadata": {
    "collapsed": true
   },
   "outputs": [],
   "source": [
    "import os, subprocess"
   ]
  },
  {
   "cell_type": "code",
   "execution_count": 52,
   "metadata": {
    "collapsed": false
   },
   "outputs": [
    {
     "name": "stdout",
     "output_type": "stream",
     "text": [
      "[Errno 2] No such file or directory: 'Cache-Bot/binLoc/release'\n",
      "/home/ubuntu/Cache-Bot/binLoc/release\n"
     ]
    }
   ],
   "source": [
    "cd Cache-Bot/binLoc/release"
   ]
  },
  {
   "cell_type": "code",
   "execution_count": 53,
   "metadata": {
    "collapsed": false
   },
   "outputs": [
    {
     "name": "stdout",
     "output_type": "stream",
     "text": [
      "total 40788\r\n",
      "-rwxr-xr-x 1 ubuntu  1260454 Mar  8 03:15 \u001b[0m\u001b[01;32mcacheLight\u001b[0m*\r\n",
      "-rwxr-xr-x 1 ubuntu   340810 Mar  8 03:15 \u001b[01;32mevoCache\u001b[0m*\r\n",
      "-rwxr-xr-x 1 ubuntu  1291198 Mar  8 03:15 \u001b[01;32mevoCacheView\u001b[0m*\r\n",
      "-rwxr-xr-x 1 ubuntu   384484 Mar  8 03:15 \u001b[01;32mextraCash\u001b[0m*\r\n",
      "-rwxrwxr-x 1 ubuntu       76 Mar  8 03:15 \u001b[01;32mextraCash.sh\u001b[0m*\r\n",
      "-rwxrwxr-x 1 ubuntu       91 Mar  8 03:15 \u001b[01;32mfullAnalysis.sh\u001b[0m*\r\n",
      "-rwxrwxr-x 1 ubuntu        0 Mar  8 03:15 \u001b[01;32mjsonBot.json\u001b[0m*\r\n",
      "-rwxrwxr-x 1 ubuntu        0 Mar  8 03:15 \u001b[01;32mjsonData.json\u001b[0m*\r\n",
      "-rwxrwxr-x 1 ubuntu        0 Mar  8 03:15 \u001b[01;32mjsonExtra.json\u001b[0m*\r\n",
      "lrwxrwxrwx 1 ubuntu       21 Mar  8 03:15 \u001b[01;36mlibcacheRest.so\u001b[0m -> \u001b[01;32mlibcacheRest.so.1.0.0\u001b[0m*\r\n",
      "lrwxrwxrwx 1 ubuntu       21 Mar  8 03:15 \u001b[01;36mlibcacheRest.so.0\u001b[0m -> \u001b[01;32mlibcacheRest.so.0.1.0\u001b[0m*\r\n",
      "lrwxrwxrwx 1 ubuntu       21 Mar  8 03:15 \u001b[01;36mlibcacheRest.so.0.1\u001b[0m -> \u001b[01;32mlibcacheRest.so.0.1.0\u001b[0m*\r\n",
      "-rwxr-xr-x 1 ubuntu   280596 Mar  8 03:15 \u001b[01;32mlibcacheRest.so.0.1.0\u001b[0m*\r\n",
      "lrwxrwxrwx 1 ubuntu       21 Mar  8 03:15 \u001b[01;36mlibcacheRest.so.1\u001b[0m -> \u001b[01;32mlibcacheRest.so.1.0.0\u001b[0m*\r\n",
      "lrwxrwxrwx 1 ubuntu       21 Mar  8 03:15 \u001b[01;36mlibcacheRest.so.1.0\u001b[0m -> \u001b[01;32mlibcacheRest.so.1.0.0\u001b[0m*\r\n",
      "-rwxr-xr-x 1 ubuntu   294908 Mar  8 03:15 \u001b[01;32mlibcacheRest.so.1.0.0\u001b[0m*\r\n",
      "lrwxrwxrwx 1 ubuntu       16 Mar  8 03:15 \u001b[01;36mlibcore.so\u001b[0m -> \u001b[01;32mlibcore.so.1.0.0\u001b[0m*\r\n",
      "lrwxrwxrwx 1 ubuntu       16 Mar  8 03:15 \u001b[01;36mlibcore.so.0\u001b[0m -> \u001b[01;32mlibcore.so.0.1.0\u001b[0m*\r\n",
      "lrwxrwxrwx 1 ubuntu       16 Mar  8 03:15 \u001b[01;36mlibcore.so.0.1\u001b[0m -> \u001b[01;32mlibcore.so.0.1.0\u001b[0m*\r\n",
      "-rwxr-xr-x 1 ubuntu   825226 Mar  8 03:15 \u001b[01;32mlibcore.so.0.1.0\u001b[0m*\r\n",
      "lrwxrwxrwx 1 ubuntu       16 Mar  8 03:15 \u001b[01;36mlibcore.so.1\u001b[0m -> \u001b[01;32mlibcore.so.1.0.0\u001b[0m*\r\n",
      "lrwxrwxrwx 1 ubuntu       16 Mar  8 03:15 \u001b[01;36mlibcore.so.1.0\u001b[0m -> \u001b[01;32mlibcore.so.1.0.0\u001b[0m*\r\n",
      "-rwxr-xr-x 1 ubuntu   917877 Mar  8 03:15 \u001b[01;32mlibcore.so.1.0.0\u001b[0m*\r\n",
      "-rwxrwxr-x 1 ubuntu 23512848 Mar  8 03:15 \u001b[01;32mlibicudata.so.52\u001b[0m*\r\n",
      "-rwxrwxr-x 1 ubuntu  2121040 Mar  8 03:15 \u001b[01;32mlibicui18n.so.52\u001b[0m*\r\n",
      "-rwxrwxr-x 1 ubuntu  1525776 Mar  8 03:15 \u001b[01;32mlibicuuc.so.52\u001b[0m*\r\n",
      "-rwxrwxr-x 1 ubuntu  4868112 Mar  8 03:15 \u001b[01;32mlibQt5Core.so.5\u001b[0m*\r\n",
      "-rwxrwxr-x 1 ubuntu  1325784 Mar  8 03:15 \u001b[01;32mlibQt5Network.so.5\u001b[0m*\r\n",
      "-rwxr-xr-x 1 ubuntu  1203003 Mar  8 03:15 \u001b[01;32mmetricViewer\u001b[0m*\r\n",
      "-rwxr-xr-x 1 ubuntu   181140 Mar  8 03:15 \u001b[01;32mspinner\u001b[0m*\r\n",
      "-rwxr-xr-x 1 ubuntu   193347 Mar  8 03:15 \u001b[01;32mtests\u001b[0m*\r\n",
      "-rwxr-xr-x 1 ubuntu  1199864 Mar  8 03:15 \u001b[01;32muserViewer\u001b[0m*\r\n"
     ]
    }
   ],
   "source": [
    "ll"
   ]
  },
  {
   "cell_type": "code",
   "execution_count": 60,
   "metadata": {
    "collapsed": false
   },
   "outputs": [],
   "source": [
    "def extra(user_ID):\n",
    "    cmd = \"./extraCash.sh '{\\\"user_id\\\":\\\"\"+user_ID+\"\\\", \\\"ask\\\":333}'\"\n",
    "    popen = subprocess.Popen(cmd, stdout=subprocess.PIPE, shell=True)\n",
    "    popen.wait()\n",
    "    output = popen.stdout.read()\n",
    "    print output\n"
   ]
  },
  {
   "cell_type": "code",
   "execution_count": 61,
   "metadata": {
    "collapsed": false
   },
   "outputs": [
    {
     "name": "stdout",
     "output_type": "stream",
     "text": [
      "/home/ubuntu/Cache-Bot/binLoc/release\n",
      "[warning] ********** NEW SESSION ********** \n",
      "../../logs/extraCash\n",
      "03:19:28.700    GIT_VERSION: 1.6.0-110-g2fafcfc    \n",
      "[warning] Enabling PriceWindow during evo{\n",
      "    \"CatDistrib\": \"enabled\",\n",
      "    \"LabelDistrib\": null,\n",
      "    \"PriceWindow\": \"enabled\"\n",
      "}\n",
      "\n",
      "[warning] Making postTreatmentBot: ROOT PriceWindow 0 -6 0 PriceWindow 0 -5.47712 0 PriceWindow 0 -5.17609 0 PriceWindow 0 -4.87507 0 PriceWindow 0 -4.47714 0 PriceWindow 0 -4.00004 0 PriceWindow 0 -3.47727 0 PriceWindow 0 -3.17638 0 PriceWindow 0 -2.87564 0 PriceWindow 0 -2.47857 0 PriceWindow 0 -2.00432 0 PriceWindow 0 -1.49136 0 PriceWindow 0 -1.20412 0 PriceWindow 0 -0.778151 0 PriceWindow 0 -0.39794 0 PriceWindow 0 8 0 PriceWindow 0 7.17609 0 PriceWindow 0 6.47712 0 PriceWindow 0 5.47712 0 PriceWindow 0 4.87507 0 PriceWindow 0 4.00004 0 PriceWindow 0 3.17638 0 PriceWindow 0 2.47857 0 PriceWindow 0 1.49136 0 PriceWindow 0 0.778151 0 PriceWindow 0 1.35006e-15 0 PriceWindow 0 0 0 PriceWindow 0 0 0 PriceWindow 0 0 0 PriceWindow 0 0 0 PriceWindow 0 0 0 PriceWindow 0 0 0\n",
      "[warning] magic 0 applied to 0 trans\n",
      "[warning] topCat: Food s_magicFilter 1\n",
      "[warning] magic applied to 0 trans\n",
      "[warning] subCat: Dining s_magicFilter 2\n",
      "[warning] magic applied to 0 trans\n",
      "[warning] subCat: Grocery s_magicFilter 3\n",
      "[warning] magic applied to 0 trans\n",
      "[warning] topCat: Transit s_magicFilter 4\n",
      "[warning] magic applied to 0 trans\n",
      "[warning] subCat: Personal s_magicFilter 5\n",
      "[warning] magic applied to 0 trans\n",
      "[warning] subCat: Public s_magicFilter 6\n",
      "[warning] magic applied to 0 trans\n",
      "[warning] subCat: Travel s_magicFilter 7\n",
      "[warning] magic applied to 0 trans\n",
      "[warning] topCat: Shops s_magicFilter 8\n",
      "[warning] magic applied to 0 trans\n",
      "[warning] subCat: Clothing s_magicFilter 9\n",
      "[warning] magic applied to 0 trans\n",
      "[warning] subCat: Electronics s_magicFilter 10\n",
      "[warning] magic applied to 0 trans\n",
      "[warning] subCat: Other shops s_magicFilter 11\n",
      "[warning] magic applied to 0 trans\n",
      "[warning] topCat: Recreation s_magicFilter 12\n",
      "[warning] magic applied to 0 trans\n",
      "[warning] subCat: Parks s_magicFilter 13\n",
      "[warning] magic applied to 0 trans\n",
      "[warning] subCat: Sport s_magicFilter 14\n",
      "[warning] magic applied to 0 trans\n",
      "[warning] topCat: Rent s_magicFilter 15\n",
      "[warning] magic applied to 0 trans\n",
      "[warning] topCat: Mortgage s_magicFilter 16\n",
      "[warning] magic applied to 0 trans\n",
      "[warning] topCat: Other s_magicFilter 0\n",
      "[warning] eventually, magic 0 applied to 0 trans\n",
      "\n"
     ]
    }
   ],
   "source": [
    "extra(\"55653f1f2dea2e0300e39b64\")"
   ]
  },
  {
   "cell_type": "code",
   "execution_count": null,
   "metadata": {
    "collapsed": true
   },
   "outputs": [],
   "source": []
  }
 ],
 "metadata": {
  "kernelspec": {
   "display_name": "Python 2",
   "language": "python",
   "name": "python2"
  },
  "language_info": {
   "codemirror_mode": {
    "name": "ipython",
    "version": 2
   },
   "file_extension": ".py",
   "mimetype": "text/x-python",
   "name": "python",
   "nbconvert_exporter": "python",
   "pygments_lexer": "ipython2",
   "version": "2.7.11"
  }
 },
 "nbformat": 4,
 "nbformat_minor": 0
}
